{
 "cells": [
  {
   "cell_type": "markdown",
   "id": "26c9489d",
   "metadata": {},
   "source": [
    "#                                       PYTHON - WORKSHEET 1\n",
    "\n",
    "1. (C) %\n",
    "2. (B) 0\n",
    "3. (C) 24\n",
    "4. (A) 2\n",
    "5. (D) 6\n",
    "6. (C) the finally block will be executed no matter if the try block raises an error or not.\n",
    "7. (A) It is used to raise an exception.\n",
    "8. (C) in defining a generator\n",
    "9. (A), (C) _abc, abc2\n",
    "10. (A), (B) yield, raise\n",
    "11. Ans."
   ]
  },
  {
   "cell_type": "code",
   "execution_count": 1,
   "id": "a6733da2",
   "metadata": {},
   "outputs": [
    {
     "name": "stdout",
     "output_type": "stream",
     "text": [
      "The factorial of 5 is 120\n"
     ]
    }
   ],
   "source": [
    "num = 5\n",
    "\n",
    "\n",
    "factorial = 1\n",
    "\n",
    "if num < 0:\n",
    "   print(\"Sorry, factorial does not exist for negative numbers\")\n",
    "elif num == 0:\n",
    "   print(\"The factorial of 0 is 1\")\n",
    "else:\n",
    "   for i in range(1,num + 1):\n",
    "       factorial = factorial*i\n",
    "   print(\"The factorial of\",num,\"is\",factorial)"
   ]
  },
  {
   "cell_type": "markdown",
   "id": "6593a84c",
   "metadata": {},
   "source": [
    "12. Ans"
   ]
  },
  {
   "cell_type": "code",
   "execution_count": 24,
   "id": "87b75351",
   "metadata": {},
   "outputs": [
    {
     "name": "stdout",
     "output_type": "stream",
     "text": [
      "Enter any number:45\n",
      "45 is not prime but composite number\n"
     ]
    }
   ],
   "source": [
    "n= int(input(\"Enter any number:\"))\n",
    "if(n ==0 or n == 1):\n",
    "    printf(n,\"Number is neither prime nor composite\")\n",
    "elif n>1 :\n",
    "    for i in range(2,n):\n",
    "        if(n%i == 0):\n",
    "            print(n,\"is not prime but composite number\")\n",
    "            break\n",
    "    else:\n",
    "        print(n,\"number is prime but not composite number\")\n",
    "else :\n",
    "    print(\"Please enter positive number only \")"
   ]
  },
  {
   "cell_type": "markdown",
   "id": "f58d5423",
   "metadata": {},
   "source": [
    "13. Ans"
   ]
  },
  {
   "cell_type": "code",
   "execution_count": 28,
   "id": "1130e7f2",
   "metadata": {},
   "outputs": [
    {
     "name": "stdout",
     "output_type": "stream",
     "text": [
      "No\n"
     ]
    }
   ],
   "source": [
    "def isPalindrome(str):\n",
    " \n",
    "    \n",
    "    for i in range(0, int(len(str)/2)):\n",
    "        if str[i] != str[len(str)-i-1]:\n",
    "            return False\n",
    "    return True\n",
    " \n",
    "\n",
    "s = \"indian\"\n",
    "ans = isPalindrome(s)\n",
    " \n",
    "if (ans):\n",
    "    print(\"Yes\")\n",
    "else:\n",
    "    print(\"No\")"
   ]
  },
  {
   "cell_type": "markdown",
   "id": "d9b1e37c",
   "metadata": {},
   "source": [
    "14. Ans"
   ]
  },
  {
   "cell_type": "code",
   "execution_count": 33,
   "id": "407feeb1",
   "metadata": {},
   "outputs": [
    {
     "name": "stdout",
     "output_type": "stream",
     "text": [
      "3.605551275463989\n"
     ]
    }
   ],
   "source": [
    "def findHypotenuse(side1, side2):\n",
    " \n",
    "    h = (((side1 * side1) + (side2 * side2))**(1/2));\n",
    "    return h;\n",
    " \n",
    "\n",
    "side1 = 2;\n",
    "side2 = 3;\n",
    " \n",
    "print(findHypotenuse(side1, side2));"
   ]
  },
  {
   "cell_type": "markdown",
   "id": "2c069ef1",
   "metadata": {},
   "source": [
    "15. Ans"
   ]
  },
  {
   "cell_type": "code",
   "execution_count": 35,
   "id": "11f19243",
   "metadata": {},
   "outputs": [
    {
     "name": "stdout",
     "output_type": "stream",
     "text": [
      "Enter the string rahul\n",
      " The frequencies of characters in the string are {'r': 1, 'a': 1, 'h': 1, 'u': 1, 'l': 1}\n"
     ]
    }
   ],
   "source": [
    "string=input(\"Enter the string \")\n",
    "freq=dict()\n",
    "for i in string :\n",
    "    if i in freq.keys():\n",
    "        freq[i]=freq[i]+1\n",
    "    else :\n",
    "        freq[i]=1\n",
    "print(\" The frequencies of characters in the string are\", freq)"
   ]
  },
  {
   "cell_type": "code",
   "execution_count": null,
   "id": "5f3f924e",
   "metadata": {},
   "outputs": [],
   "source": []
  }
 ],
 "metadata": {
  "kernelspec": {
   "display_name": "Python 3",
   "language": "python",
   "name": "python3"
  },
  "language_info": {
   "codemirror_mode": {
    "name": "ipython",
    "version": 3
   },
   "file_extension": ".py",
   "mimetype": "text/x-python",
   "name": "python",
   "nbconvert_exporter": "python",
   "pygments_lexer": "ipython3",
   "version": "3.8.8"
  }
 },
 "nbformat": 4,
 "nbformat_minor": 5
}
